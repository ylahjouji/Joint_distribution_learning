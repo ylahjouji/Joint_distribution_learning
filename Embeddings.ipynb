{
 "cells": [
  {
   "cell_type": "markdown",
   "id": "1990980c-d71b-47f4-b86f-b8f66cd02b4e",
   "metadata": {},
   "source": [
    "# Embeddings for joint distribution learning"
   ]
  },
  {
   "cell_type": "code",
   "execution_count": 1,
   "id": "b1e7593d-c88f-4267-950e-5bb10538f4ee",
   "metadata": {},
   "outputs": [],
   "source": [
    "import numpy as np\n",
    "import mosek\n",
    "from mosek.fusion import *\n",
    "%load_ext autoreload\n",
    "%autoreload 2"
   ]
  },
  {
   "cell_type": "code",
   "execution_count": 2,
   "id": "316e4bf5-d751-4d8e-84df-ed9db2f4d615",
   "metadata": {},
   "outputs": [],
   "source": [
    "from numpy import array, dot\n",
    "from numpy import linalg as LA"
   ]
  },
  {
   "cell_type": "code",
   "execution_count": 3,
   "id": "64a38047-dc31-453c-bd53-5c906f3ffea9",
   "metadata": {},
   "outputs": [],
   "source": [
    "import scipy as scip\n",
    "from scipy.spatial.distance import pdist, squareform\n",
    "from scipy.stats import norm"
   ]
  },
  {
   "cell_type": "code",
   "execution_count": 4,
   "id": "6a526e7d-dd42-476f-b8b1-e7ba2e36534e",
   "metadata": {},
   "outputs": [],
   "source": [
    "import itertools\n",
    "from sklearn.metrics.pairwise import pairwise_kernels"
   ]
  },
  {
   "cell_type": "markdown",
   "id": "95d9047b-9226-465e-93a4-4a80de0a1a9a",
   "metadata": {
    "tags": []
   },
   "source": [
    "### Algorithms used in the embeddings"
   ]
  },
  {
   "cell_type": "markdown",
   "id": "272aead2-af81-4227-8d2f-01d5eabdcf41",
   "metadata": {
    "tags": []
   },
   "source": [
    "#### Gaussian Kernel"
   ]
  },
  {
   "cell_type": "code",
   "execution_count": 5,
   "id": "cf2590fc-0deb-4a85-9f5b-d930a1fab3c8",
   "metadata": {},
   "outputs": [],
   "source": [
    "def Gaussian_kernel_matrix(v, sig_v):\n",
    "    pairwise_dists = squareform(pdist(v, 'euclidean'))\n",
    "    K = np.exp(-np.power(pairwise_dists,2) / sig_v ** 2)\n",
    "    return K"
   ]
  },
  {
   "cell_type": "code",
   "execution_count": 6,
   "id": "960729d5-9064-4929-8bde-496c4faeef85",
   "metadata": {},
   "outputs": [],
   "source": [
    "def Kernel_Vector_Double(z_s,z_k,sig):\n",
    "    first_column = z_s[:,0]\n",
    "    second_column = z_s[:,1]\n",
    "    j_1 = np.exp(-np.power(first_column-z_k[0],2)/ sig[0])\n",
    "    j_2 = np.exp(-np.power(second_column-z_k[1],2)/ sig[1])\n",
    "    return j_1 * j_2"
   ]
  },
  {
   "cell_type": "code",
   "execution_count": 7,
   "id": "6cba833c-be26-49d7-8b79-60ed7d48ff41",
   "metadata": {},
   "outputs": [],
   "source": [
    "def Kernel_Vector_Single(y_s,y_k,sig_y):\n",
    "    return np.exp(-np.power(y_s-y_k,2)/ sig_y)"
   ]
  },
  {
   "cell_type": "markdown",
   "id": "f399a271-4af5-4ffc-be65-7ae8ea94ff27",
   "metadata": {},
   "source": [
    "#### Biorthogonal chokesky basis"
   ]
  },
  {
   "cell_type": "code",
   "execution_count": 8,
   "id": "38862e24-0f19-4896-89d7-13b640944c89",
   "metadata": {},
   "outputs": [],
   "source": [
    "def biorthogonl_chokesky_basis(K, epsilon):\n",
    "    N = np.shape(K)[0]\n",
    "    m = 1\n",
    "    d = np.diag(K)\n",
    "    #print(np.shape(d))   \n",
    "    L = np.ones(N)\n",
    "    B = np.ones(N)   \n",
    "    j_s = []\n",
    "    err = np.linalg.norm(d)\n",
    "    j = np.argmax(d)\n",
    "    j_s.append(j)\n",
    "    l_m = K[:,j] \n",
    "    b_m = np.eye(1,N, j).flatten().T\n",
    "    l_m = l_m / np.sqrt(d[j])\n",
    "    b_m = b_m / np.sqrt(d[j])\n",
    "    #print(np.shape(b_m))\n",
    "    L =  np.c_[L,l_m]\n",
    "    B = np.c_[B,b_m]\n",
    "    L = L[:,1:]\n",
    "    B = B[:,1:]\n",
    "    d = d - np.multiply(l_m,l_m)\n",
    "    err = np.linalg.norm(d,1)\n",
    "    m = m + 1\n",
    "    while err > epsilon:\n",
    "        j = np.argmax(d)\n",
    "        #print('j is : ',j)\n",
    "        j_s.append(j)\n",
    "        l_j = np.dot(L,L.T[:,j])\n",
    "        b_j = np.dot(B,L.T[:,j])\n",
    "        l_m = K[:,j] - l_j\n",
    "        b_m = np.eye(1,N,j).flatten().T - b_j\n",
    "        l_m = l_m / np.sqrt(d[j])\n",
    "        b_m = b_m / np.sqrt(d[j])\n",
    "        L = np.c_[L,l_m]\n",
    "        B = np.c_[B,b_m]\n",
    "        #print('L shape is :',np.shape(L))\n",
    "        #print('B shape is :',np.shape(B))\n",
    "        d = d - np.multiply(l_m,l_m)\n",
    "        err = np.linalg.norm(d,1)\n",
    "        m = m + 1\n",
    "        #print('m is : ',m)\n",
    "        #print('err is',err)\n",
    "    return L, B, j_s"
   ]
  },
  {
   "cell_type": "markdown",
   "id": "3eed9a6a-d284-4644-b565-1f6e1f40ee81",
   "metadata": {},
   "source": [
    "### Definition of the low rank embedding variables"
   ]
  },
  {
   "cell_type": "markdown",
   "id": "f7e37e51-ad21-4251-9c85-29938981b35c",
   "metadata": {},
   "source": [
    "#### Biorthogonal basis and normalization constraints"
   ]
  },
  {
   "cell_type": "code",
   "execution_count": 9,
   "id": "365fd19e-44b7-464f-b0a9-6ca57bc06a03",
   "metadata": {},
   "outputs": [],
   "source": [
    "def biorthogonal_basis_decompostion_and_normalization_constraints(x, y, epsilon, sig_x, sig_y):\n",
    "    \n",
    "    \n",
    "## Biorthogonal basis for the tensor product\n",
    "\n",
    "    n = np.shape(x)[0]\n",
    "    N = np.power(n,2)\n",
    "    \n",
    "    K_X = Gaussian_kernel_matrix([[i] for i in x], sig_x)\n",
    "    K_Y = Gaussian_kernel_matrix([[i] for i in y], sig_y)\n",
    "\n",
    "    L_X, B_X, j_s_X = biorthogonl_chokesky_basis(K_X,epsilon)\n",
    "    L_Y, B_Y, j_s_Y = biorthogonl_chokesky_basis(K_Y,epsilon)\n",
    "\n",
    "    m_X = np.shape(B_X)[1]\n",
    "    m_Y = np.shape(B_Y)[1]\n",
    "    m = m_X * m_Y\n",
    "\n",
    "#Eignevalue decomposition of L.T L\n",
    "    matrix_to_decompose_X = np.dot(L_X.T,L_X)\n",
    "\n",
    "    w_X, v_X = LA.eig(matrix_to_decompose_X)\n",
    "    U_X = B_X[j_s_X,:]\n",
    "    Q_X = np.dot(U_X,v_X)\n",
    "\n",
    "    matrix_to_decompose_Y = np.dot(L_Y.T,L_Y)\n",
    "\n",
    "    w_Y, v_Y = LA.eig(matrix_to_decompose_Y)\n",
    "    U_Y = B_Y[j_s_Y,:]\n",
    "    Q_Y = np.dot(U_Y,v_Y)\n",
    "\n",
    "    Q = np.kron(Q_X,Q_Y)\n",
    "    Lambda = np.kron(w_X,w_Y)\n",
    "    z_j_s = np.asarray(list(itertools.product(x[j_s_X], y[j_s_Y])))\n",
    "    \n",
    "# Constraints\n",
    "    ## Normalization Constraints\n",
    "    y_j_s = y[j_s_Y]\n",
    "  \n",
    "    matrix_Y = list(map(lambda y_sample: np.dot(Kernel_Vector_Single(y_j_s,y_sample,sig_y),Q_Y), y))\n",
    "    vec_Y = np.sum(matrix_Y, axis = 0)\n",
    "    I_X_Psi_Y = (1/n) * vec_Y\n",
    "    \n",
    "    x_j_s = x[j_s_X]\n",
    "    matrix_X = list(map(lambda y_sample: np.dot(Kernel_Vector_Single(x_j_s,y_sample,sig_x),Q_X), x))\n",
    "    vec_X = np.sum(matrix_X, axis = 0)\n",
    "    I_Y_Psi_X = (1/n) * vec_X\n",
    "    \n",
    "    Unit_m_X = np.ones(m_X)\n",
    "    Unit_m_Y = np.ones(m_Y)\n",
    "\n",
    "    gamma_x = list(itertools.product(Unit_m_X,I_X_Psi_Y))\n",
    "    Gamma_X = [a_tuple[0] * a_tuple[1] for a_tuple in gamma_x]\n",
    "\n",
    "    gamma_y = list(itertools.product(I_Y_Psi_X,Unit_m_Y))\n",
    "    Gamma_Y = [a_tuple[0] * a_tuple[1] for a_tuple in gamma_y]\n",
    "\n",
    "    ## Q is the matrix that yields the biorthogonal chokesky basis, indeed the basis is given by \\phi_p * Q\n",
    "    ## Moreover, \\phi_p is given by z, indeed \\phi_p(z) is given by Kernel_Vector(z,z,sig)\n",
    "    ## Thus \\psi(z) = np.dot(Kernel_Vector(z,z,sig),Q)\n",
    "    return Q, Lambda, z_j_s, m, Gamma_X, Gamma_Y"
   ]
  },
  {
   "cell_type": "code",
   "execution_count": 10,
   "id": "f5268672-6f4f-4022-ba82-73f184d62d1b",
   "metadata": {},
   "outputs": [],
   "source": [
    "def positivity_constraint(m):\n",
    "    a = np.zeros(m)\n",
    "    b = np.ones(m)\n",
    "    return a,b"
   ]
  },
  {
   "cell_type": "code",
   "execution_count": 11,
   "id": "f5a4a6cf-de1f-402d-833c-83808f5307cd",
   "metadata": {},
   "outputs": [],
   "source": [
    "def objective_function_inner_products(z_j_s, z, z_itertools, sig):\n",
    "\n",
    "    n_tr = np.shape(z)[0]\n",
    "    N = np.power(n_tr,2)\n",
    "    matrix_1 = list(map(lambda z_i: Kernel_Vector_Double(z_j_s,z_i,sig),z))\n",
    "    vec_1 = np.sum(matrix_1, axis = 0)\n",
    "\n",
    "    matrix_2 = list(map(lambda z_ij: Kernel_Vector_Double(z_j_s,z_ij,sig),z_itertools))\n",
    "    vec_2 = np.sum(matrix_2, axis = 0)\n",
    "    \n",
    "    return  (1/n_tr) * vec_1, (1/N) * vec_2\n",
    "\n",
    "def objective_function_first_term(z_j_s, z, z_itertools, sig, Q):\n",
    "    first_inner_product, second_inner_product = objective_function_inner_products(z_j_s, z, z_itertools, sig) \n",
    "    vector =  first_inner_product - second_inner_product\n",
    "    return np.dot(vector,Q)"
   ]
  },
  {
   "cell_type": "markdown",
   "id": "398b65ee-2ad9-45ba-a199-d97e64d1e473",
   "metadata": {
    "tags": []
   },
   "source": [
    "### Defintion of the greedy emebdding variables"
   ]
  },
  {
   "cell_type": "code",
   "execution_count": 12,
   "id": "136342e0-6276-445c-92e9-d0f426408181",
   "metadata": {},
   "outputs": [],
   "source": [
    "def biorthogonal_basis_decompostion(y, epsilon, sig_y):\n",
    "    \n",
    "## Biorthogonal basis for the tensor product\n",
    "\n",
    "    n = np.shape(y)[0]\n",
    "    N = np.power(n,2)\n",
    "    \n",
    "    K_Y = Gaussian_kernel_matrix([[i] for i in y], sig_y)\n",
    "\n",
    "    L_Y, B_Y, j_s_Y = biorthogonl_chokesky_basis(K_Y,epsilon)\n",
    "\n",
    "    m_Y = np.shape(B_Y)[1]\n",
    "\n",
    "#Eignevalue decomposition of L.T L\n",
    "    matrix_to_decompose_Y = np.dot(L_Y.T,L_Y)\n",
    "\n",
    "    w_Y, v_Y = LA.eig(matrix_to_decompose_Y)\n",
    "    U_Y = B_Y[j_s_Y,:]\n",
    "    Q_Y = np.dot(U_Y,v_Y)\n",
    "\n",
    "    y_j_s = y[j_s_Y]\n",
    "\n",
    "    ## Q is the matrix that yields the biorthogonal chokesky basis, indeed the basis is given by \\phi_p * Q\n",
    "    ## Moreover, \\phi_p is given by z, indeed \\phi_p(z) is given by Kernel_Vector(z,z,sig)\n",
    "    ## Thus \\psi(z) = np.dot(Kernel_Vector(z,z,sig),Q)\n",
    "    \n",
    "    return Q_Y, w_Y, y_j_s, m_Y"
   ]
  },
  {
   "cell_type": "code",
   "execution_count": 13,
   "id": "e1972418-1364-4c3c-bce2-e2680d3e1571",
   "metadata": {
    "tags": []
   },
   "outputs": [],
   "source": [
    "def first_normalization_cosntraint(y, y_j_s, Q_Y, sig_y):\n",
    "# Constraints\n",
    "    ## Normalization Constraints\n",
    "    n = np.shape(y)[0]\n",
    "    matrix_Y = list(map(lambda y_sample: np.dot(Kernel_Vector_Single(y_j_s,y_sample,sig_y),Q_Y), y))\n",
    "    vec_Y = np.sum(matrix_Y, axis = 0)\n",
    "    I_X_Psi_Y = (1/n) * vec_Y\n",
    "    \n",
    "    ## Q is the matrix that yields the biorthogonal chokesky basis, indeed the basis is given by \\phi_p * Q_Y\n",
    "    ## Moreover, \\phi_p is given by z, indeed \\phi_p(y) is given by Kernel_Vector(y_j_s,y,sig_y)\n",
    "    ## Thus \\psi(y) = np.dot(Kernel_Vector(y_j_s,y,sig_y),Q_Y)\n",
    "    \n",
    "    return I_X_Psi_Y"
   ]
  },
  {
   "cell_type": "code",
   "execution_count": 15,
   "id": "d03f5974-ab9e-4d8e-bea1-22ea61212d2f",
   "metadata": {},
   "outputs": [],
   "source": [
    "def second_normalization_constraint(h_s, P_X_s, P_X_i):\n",
    "    result = np.matmul(P_X_s, h_s)\n",
    "    threshold =  (1 / P_X_i) * result\n",
    "    rhs = (1/P_X_i) * (1 - np.sum(P_X_s) - P_X_i)\n",
    "    return threshold, rhs"
   ]
  },
  {
   "cell_type": "code",
   "execution_count": 16,
   "id": "23ed4755-9f5d-436a-ac0c-78efd462211f",
   "metadata": {},
   "outputs": [],
   "source": [
    "def greedy_objective_function_inner_products(y, y_j_s, y_i, n_tr, sig_y):\n",
    "\n",
    "    n = np.shape(y_i)[0]\n",
    "    N = np.power(n_tr,2)\n",
    "    matrix_1 = list(map(lambda y_sample: Kernel_Vector_Single(y_j_s, y_sample,sig_y),y_i))\n",
    "    vec_1 = np.sum(matrix_1, axis = 0)\n",
    "\n",
    "    matrix_2 = list(map(lambda y_sample: Kernel_Vector_Single(y_j_s, y_sample,sig_y), y))\n",
    "    vec_2 = np.sum(matrix_2, axis = 0)\n",
    "    \n",
    "    return  (1/n_tr) * vec_1, (n/N) * vec_2\n",
    "\n",
    "def greedy_objective_function_first_term(y_j_s, y_i, y, n_tr, sig_y, Q_Y):\n",
    "    first_inner_product, second_inner_product = greedy_objective_function_inner_products(y, y_j_s, y_i, n_tr, sig_y) \n",
    "    vector =  first_inner_product - second_inner_product\n",
    "    return np.dot(vector,Q_Y)"
   ]
  },
  {
   "cell_type": "markdown",
   "id": "42fa7d7c-278c-4796-9c96-9df5c2a66b0d",
   "metadata": {},
   "source": [
    "## Embeddings"
   ]
  },
  {
   "cell_type": "markdown",
   "id": "1c4e375a-fcea-4d17-9fbf-4811ac8628b3",
   "metadata": {},
   "source": [
    "### Low rank embedding"
   ]
  },
  {
   "cell_type": "code",
   "execution_count": 9,
   "id": "393ebe4f-5157-496e-9d3e-26d8bacfef0a",
   "metadata": {},
   "outputs": [],
   "source": [
    "def low_rank_embedding(z, sig, epsilon, lambda_):\n",
    "    x = z[:,0]\n",
    "    y = z[:,1]\n",
    "    z_itertools = np.asarray(list(itertools.product(y,x))) \n",
    "    Q, Lambda, z_j_s, m, Gamma_X, Gamma_Y = biorthogonal_basis_decompostion_and_normalization_constraints(x,y,epsilon, sig[0], sig[1])\n",
    "    a, b = positivity_constraint(m)\n",
    "    A = 0.5 * (np.diag(Lambda) + lambda_ * np.identity(m)) \n",
    "    first_term = objective_function_first_term(z_j_s, z, z_itertools, sig, Q)\n",
    "    sqrt_quad_form = np.sqrt(Lambda)\n",
    "    Model.putlicensepath(r\"mosek.lic\")\n",
    "    with Model('cq01') as M:\n",
    "        ## Creating variables\n",
    "        h = M.variable('h', m, Domain.unbounded())\n",
    "        h_p = M.variable('h_p', m, Domain.greaterThan(0.0))\n",
    "        h_n = M.variable('h_n', m, Domain.greaterThan(0.0))\n",
    "        u = M.variable('u', Domain.greaterThan(0.0))\n",
    "        ## Imposing constraints\n",
    "        M.constraint(\"posnegc\",Expr.sub(h,Expr.sub(h_p,h_n)), Domain.equalsTo(0.0))\n",
    "        ###Positivity constraint\n",
    "        M.constraint(\"positivity\",Expr.sum(Expr.sub(Expr.mulElm(h_n,b),Expr.mulElm(h_p,a))), Domain.lessThan(1.0))\n",
    "        ###Normalization constraints\n",
    "        M.constraint(\"normalization1\", Expr.dot(np.real(Gamma_X),h), Domain.equalsTo(0.0))\n",
    "        M.constraint(\"normalization2\", Expr.dot(np.real(Gamma_Y),h), Domain.equalsTo(0.0))\n",
    "        ## Quadratic cone constraint\n",
    "        M.constraint(\"qc1\", Expr.vstack(0.5,u,Expr.mulElm(np.real(sqrt_quad_form),h)), Domain.inRotatedQCone())\n",
    "        M.setLogHandler(sys.stdout)\n",
    "        ##Objective function \n",
    "        M.objective(\"obj\", ObjectiveSense.Minimize, Expr.add(u,Expr.mul(2.0,Expr.dot(h,   np.real(first_term)))))\n",
    "        # Solve the problem\n",
    "        M.solve()\n",
    "        M.writeTask('cqo1.opf')\n",
    "        h_constrained = h.level()\n",
    "        print('h = %s' % str(h_constrained))\n",
    "    return h_constrained, z_j_s, Q"
   ]
  },
  {
   "cell_type": "markdown",
   "id": "45b6a3a1-0df9-448a-b862-25ecb09509e7",
   "metadata": {},
   "source": [
    "### Traditional embedding"
   ]
  },
  {
   "cell_type": "code",
   "execution_count": 3,
   "id": "9105447a-9aa7-4e08-91d2-3b28cfa20d2f",
   "metadata": {},
   "outputs": [],
   "source": [
    "def traditional_embedding(x, lambda_, sig_x):\n",
    "    n = np.shape(x)[0]\n",
    "    K_X = Gaussian_kernel_matrix([[i] for i in x], sig_x)\n",
    "    return np.linalg.inv(K_X + lambda_ * np.identity(n))    "
   ]
  },
  {
   "cell_type": "markdown",
   "id": "d5e15b41-8c1a-4c7a-b8f1-332feadc3715",
   "metadata": {},
   "source": [
    "### Greddy embedding"
   ]
  },
  {
   "cell_type": "code",
   "execution_count": 10,
   "id": "3203dd0a-4790-4099-8605-ce1433ec617c",
   "metadata": {},
   "outputs": [],
   "source": [
    "def greedy_embedding(z, sig_y, epsilon, lambda_):\n",
    "    z = z[z[:, 0].argsort()]\n",
    "    x = z[:,0]\n",
    "    y = z[:,1]\n",
    "    n = np.shape(y)[0]\n",
    "    D = x[-1]\n",
    "    \n",
    "    unique, counts = np.unique(x, return_counts=True)\n",
    "    P_X_s = counts / n\n",
    "    \n",
    "    Q_Y, w_Y, y_j_s, m_Y = biorthogonal_basis_decompostion(y, epsilon, sig_y)\n",
    "    a, b = positivity_constraint(m_Y)\n",
    "    I_X_Psi_Y = first_normalization_cosntraint(y, y_j_s, Q_Y, sig_y)\n",
    "    h_s = [] \n",
    "    A = 0.5 * (np.diag(w_Y) + lambda_ * np.identity(m_Y)) \n",
    "    sqrt_quad_form = np.sqrt(w_Y)\n",
    "\n",
    "    y_0 = y[x == unique[0]]\n",
    "    first_term_0 = greedy_objective_function_first_term(y_j_s, y_0, y, n, sig_y, Q_Y)\n",
    "    Model.putlicensepath(r\"mosek.lic\")\n",
    "    with Model('cq02') as M:\n",
    "        ## Creating variables\n",
    "        h_0 = M.variable('h_0', m_Y, Domain.unbounded())\n",
    "        h_0_p = M.variable('h_0_p', m_Y, Domain.greaterThan(0.0))\n",
    "        h_0_n = M.variable('h_0_n', m_Y, Domain.greaterThan(0.0))\n",
    "        u = M.variable('u', Domain.greaterThan(0.0))\n",
    "        ## Imposing constraints\n",
    "        M.constraint(\"posnegc\",Expr.sub(h_0,Expr.sub(h_0_p,h_0_n)), Domain.equalsTo(0.0))\n",
    "        ###Positivity constraint\n",
    "        M.constraint(\"positivity\",Expr.sum(Expr.sub(Expr.mulElm(h_0_n,b),Expr.mulElm(h_0_p,a))), Domain.lessThan(1.0))\n",
    "        ###Normalization constraints\n",
    "        M.constraint(\"normalization1\", Expr.dot(np.real(I_X_Psi_Y),h_0), Domain.equalsTo(0.0))\n",
    "        ## Quadratic cone constraint\n",
    "        M.constraint(\"qc1\", Expr.vstack(0.5,u,Expr.mulElm(np.real(sqrt_quad_form),h_0)), Domain.inRotatedQCone())\n",
    "        M.setLogHandler(sys.stdout)\n",
    "        ##Objective function \n",
    "        M.objective(\"obj\", ObjectiveSense.Minimize, Expr.add(u,Expr.mul(2.0,Expr.dot(h_0, np.real(first_term_0)))))\n",
    "        # Solve the problem\n",
    "        M.solve()\n",
    "        M.writeTask('cqo2.opf')\n",
    "        solh = h_0.level()\n",
    "        h_s.append(solh) \n",
    "    h_s = np.asarray(h_s)    \n",
    "    for i in np.arange(1,int(len(unique))):\n",
    "        y_i = y[x == unique[i]]\n",
    "        first_term_i = greedy_objective_function_first_term(y_j_s, y_i, y, n, sig_y, Q_Y)\n",
    "        with Model('cq01') as M:\n",
    "            ## Local variables\n",
    "            print(np.shape(h_s))\n",
    "            print(np.shape(P_X_s[:int(i)]))\n",
    "            threshold, rhs = second_normalization_constraint(h_s, P_X_s[:int(i)], P_X_s[int(i)])\n",
    "            ## Creating variables\n",
    "            h_i = M.variable('h_i', m_Y, Domain.unbounded())\n",
    "            h_i_p = M.variable('h_i_p', m_Y, Domain.greaterThan(0.0))\n",
    "            h_i_n = M.variable('h_i_n', m_Y, Domain.greaterThan(0.0))\n",
    "            h_i_u = M.variable('h_i_u', m_Y, Domain.greaterThan(-threshold))\n",
    "            h_i_l = M.variable('h_i_l', m_Y, Domain.greaterThan(-threshold))\n",
    "            u = M.variable('u', Domain.greaterThan(0.0))\n",
    "            ## Imposing constraints\n",
    "            M.constraint(\"posnegc\",Expr.sub(h_i,Expr.sub(h_i_p,h_i_n)), Domain.equalsTo(0.0))\n",
    "            M.constraint(\"specialposnegc\",Expr.sub(h_i,Expr.sub(h_i_u,h_i_l)), Domain.equalsTo(0.0))\n",
    "            ###Positivity constraint\n",
    "            M.constraint(\"positivity\",Expr.sum(Expr.sub(Expr.mulElm(h_i_n,b),Expr.mulElm(h_i_p,a))), Domain.lessThan(1.0))\n",
    "            ###Normalization constraints\n",
    "            M.constraint(\"normalization1\", Expr.dot(np.real(I_X_Psi_Y),h_i), Domain.equalsTo(0.0))\n",
    "            M.constraint(\"normalization2\", Expr.sum(Expr.sub(Expr.mulElm(Expr.add(h_i_u,threshold),b),Expr.mulElm(Expr.add(h_i_l,threshold),a))), Domain.lessThan(1.0))\n",
    "            ## Quadratic cone constraint\n",
    "            M.constraint(\"qc1\", Expr.vstack(0.5,u,Expr.mulElm(sqrt_quad_form,h_i)), Domain.inRotatedQCone())\n",
    "            M.setLogHandler(sys.stdout)\n",
    "            ##Objective function \n",
    "            M.objective(\"obj\", ObjectiveSense.Minimize, Expr.add(u,Expr.mul(2.0,Expr.dot(h_i, first_term_i))))\n",
    "            # Solve the problem\n",
    "            M.solve()\n",
    "            M.writeTask('cqo1.opf')\n",
    "            solh = h_i.level()\n",
    "        print('h = %s' % str(solh))\n",
    "        h_s = np.vstack((h_s, solh))\n",
    "    h_s = np.array(h_s)\n",
    "    return h_s, unique, y_j_s, Q_Y"
   ]
  }
 ],
 "metadata": {
  "kernelspec": {
   "display_name": "Python 3 (ipykernel)",
   "language": "python",
   "name": "python3"
  },
  "language_info": {
   "codemirror_mode": {
    "name": "ipython",
    "version": 3
   },
   "file_extension": ".py",
   "mimetype": "text/x-python",
   "name": "python",
   "nbconvert_exporter": "python",
   "pygments_lexer": "ipython3",
   "version": "3.8.10"
  }
 },
 "nbformat": 4,
 "nbformat_minor": 5
}
